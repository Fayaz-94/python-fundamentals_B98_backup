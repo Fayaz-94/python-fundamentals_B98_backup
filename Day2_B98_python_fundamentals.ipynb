{
 "cells": [
  {
   "cell_type": "code",
   "execution_count": null,
   "id": "ea92f7d2-2b21-4eab-a195-8e5f85f421c6",
   "metadata": {},
   "outputs": [],
   "source": [
    "Introduction to python fundamentals"
   ]
  },
  {
   "cell_type": "code",
   "execution_count": null,
   "id": "f5a5fda2-6852-4cfd-97d3-3a6cfe5d41c1",
   "metadata": {},
   "outputs": [],
   "source": []
  },
  {
   "cell_type": "code",
   "execution_count": null,
   "id": "f2f256d1-7bb2-4d8a-9898-47bb414742cc",
   "metadata": {},
   "outputs": [],
   "source": [
    "understanding the variables in python :"
   ]
  },
  {
   "cell_type": "code",
   "execution_count": null,
   "id": "7d63dcf8-83ad-42f4-832c-763ee4e22655",
   "metadata": {},
   "outputs": [],
   "source": []
  },
  {
   "cell_type": "code",
   "execution_count": 1,
   "id": "9ef0a660-13ce-4fb5-9a5b-ec1895573399",
   "metadata": {},
   "outputs": [],
   "source": [
    "a = 3\n",
    "\n",
    "b = 2"
   ]
  },
  {
   "cell_type": "code",
   "execution_count": 2,
   "id": "380c101c-dd7d-4ab7-a269-6c4000a1ec51",
   "metadata": {},
   "outputs": [
    {
     "name": "stdout",
     "output_type": "stream",
     "text": [
      "5\n"
     ]
    }
   ],
   "source": [
    "c = a+b\n",
    "\n",
    "print(c)"
   ]
  },
  {
   "cell_type": "code",
   "execution_count": null,
   "id": "097ef035-44c6-4cfd-b475-73686c580caf",
   "metadata": {},
   "outputs": [],
   "source": [
    "# shift + enter button on the keyboard"
   ]
  },
  {
   "cell_type": "code",
   "execution_count": null,
   "id": "121c135b-9acb-4495-a63a-e735a1b98bd6",
   "metadata": {},
   "outputs": [],
   "source": []
  },
  {
   "cell_type": "code",
   "execution_count": null,
   "id": "fccb8717-332e-458b-8814-88f3b89571c1",
   "metadata": {},
   "outputs": [],
   "source": [
    "Rules for declaring the variables in python :"
   ]
  },
  {
   "cell_type": "code",
   "execution_count": null,
   "id": "1a2f4917-7435-446f-9248-b36773555956",
   "metadata": {},
   "outputs": [],
   "source": [
    "Rule No 1 : No Namespaces for declaring the variable names."
   ]
  },
  {
   "cell_type": "code",
   "execution_count": 3,
   "id": "2d4ee02f-25cd-46d3-a7a9-ef3879d1ab4b",
   "metadata": {},
   "outputs": [
    {
     "ename": "SyntaxError",
     "evalue": "invalid syntax (4051653174.py, line 1)",
     "output_type": "error",
     "traceback": [
      "\u001b[1;36m  Cell \u001b[1;32mIn[3], line 1\u001b[1;36m\u001b[0m\n\u001b[1;33m    first name = \"Faiyaz\"\u001b[0m\n\u001b[1;37m          ^\u001b[0m\n\u001b[1;31mSyntaxError\u001b[0m\u001b[1;31m:\u001b[0m invalid syntax\n"
     ]
    }
   ],
   "source": [
    "first name = \"Faiyaz\"\n",
    "\n",
    "print(first name)"
   ]
  },
  {
   "cell_type": "code",
   "execution_count": 4,
   "id": "af6bc50e-3a17-4122-8196-e4ae4c218149",
   "metadata": {},
   "outputs": [
    {
     "name": "stdout",
     "output_type": "stream",
     "text": [
      "Faiyaz\n"
     ]
    }
   ],
   "source": [
    "firstname = \"Faiyaz\"\n",
    "\n",
    "print(firstname)"
   ]
  },
  {
   "cell_type": "code",
   "execution_count": null,
   "id": "63eb6ece-ed2b-489f-b691-59077bb0ef14",
   "metadata": {},
   "outputs": [],
   "source": [
    "Rule No 2 : A variable name should not start with  number **"
   ]
  },
  {
   "cell_type": "code",
   "execution_count": 5,
   "id": "348273d5-72e5-4761-acda-d5f0dd6c3551",
   "metadata": {},
   "outputs": [
    {
     "ename": "SyntaxError",
     "evalue": "invalid decimal literal (2603295238.py, line 1)",
     "output_type": "error",
     "traceback": [
      "\u001b[1;36m  Cell \u001b[1;32mIn[5], line 1\u001b[1;36m\u001b[0m\n\u001b[1;33m    1name = \"David\"\u001b[0m\n\u001b[1;37m    ^\u001b[0m\n\u001b[1;31mSyntaxError\u001b[0m\u001b[1;31m:\u001b[0m invalid decimal literal\n"
     ]
    }
   ],
   "source": [
    "1name = \"David\"\n",
    "\n",
    "print(1name)"
   ]
  },
  {
   "cell_type": "code",
   "execution_count": 6,
   "id": "5653e775-939c-4ce7-8254-bb7f04e2945a",
   "metadata": {},
   "outputs": [
    {
     "name": "stdout",
     "output_type": "stream",
     "text": [
      "David\n"
     ]
    }
   ],
   "source": [
    "name1 = \"David\"\n",
    "\n",
    "print(name1)"
   ]
  },
  {
   "cell_type": "code",
   "execution_count": null,
   "id": "54337692-2e7c-4917-8065-7b792d53ca46",
   "metadata": {},
   "outputs": [],
   "source": [
    "# shift + enter"
   ]
  },
  {
   "cell_type": "code",
   "execution_count": null,
   "id": "ff67e184-1441-4901-a87a-4f35021b9814",
   "metadata": {},
   "outputs": [],
   "source": [
    "Rule No 3 : A variable name should not contain any special characters"
   ]
  },
  {
   "cell_type": "code",
   "execution_count": null,
   "id": "d64d04f3-1fcf-478e-94af-a72fc9232586",
   "metadata": {},
   "outputs": [],
   "source": []
  },
  {
   "cell_type": "code",
   "execution_count": 7,
   "id": "67f96ecc-b9ee-4af1-86db-c9a1e7ec0ffd",
   "metadata": {},
   "outputs": [
    {
     "ename": "SyntaxError",
     "evalue": "invalid syntax (3938931654.py, line 1)",
     "output_type": "error",
     "traceback": [
      "\u001b[1;36m  Cell \u001b[1;32mIn[7], line 1\u001b[1;36m\u001b[0m\n\u001b[1;33m    name@ = \"ganesh\"\u001b[0m\n\u001b[1;37m          ^\u001b[0m\n\u001b[1;31mSyntaxError\u001b[0m\u001b[1;31m:\u001b[0m invalid syntax\n"
     ]
    }
   ],
   "source": [
    "name@ = \"ganesh\"\n",
    "\n",
    "print(name@)"
   ]
  },
  {
   "cell_type": "code",
   "execution_count": null,
   "id": "0c916b9c-37b4-4f36-a9e8-c2501797635d",
   "metadata": {},
   "outputs": [],
   "source": [
    "@ # ! $ % & *=======>"
   ]
  },
  {
   "cell_type": "code",
   "execution_count": null,
   "id": "541617d1-82b1-4b10-9caf-71953919698f",
   "metadata": {},
   "outputs": [],
   "source": []
  },
  {
   "cell_type": "code",
   "execution_count": null,
   "id": "c7003d58-09ef-4926-870e-260ada4fe798",
   "metadata": {},
   "outputs": [],
   "source": [
    "introduction to datatypes in python :"
   ]
  },
  {
   "cell_type": "code",
   "execution_count": null,
   "id": "1c841907-319e-4444-b691-53bc2f4415c1",
   "metadata": {},
   "outputs": [],
   "source": [
    "1. strings ======> str\n",
    "\n",
    "2. Numbers ====> integers --- int , floats( decimals) ----> 0.1, 0.2,0.3\n",
    "\n",
    "3. lists ----> list\n",
    "\n",
    "4. tuples ----> tuple\n",
    "\n",
    "5. Dictionaries -----> dict"
   ]
  },
  {
   "cell_type": "code",
   "execution_count": null,
   "id": "f602a28b-597e-497a-bcee-9cc131347ec0",
   "metadata": {},
   "outputs": [],
   "source": []
  },
  {
   "cell_type": "code",
   "execution_count": null,
   "id": "25f32441-f16f-448d-bbf3-2af73080e5e2",
   "metadata": {},
   "outputs": [],
   "source": [
    "classification of datatypes :\n",
    "\n",
    "Broadly datatypes are classified in to two catgeories \n",
    "\n",
    "1. mutable datatypes -----> which we can be able to edit/ alter\n",
    "2. immutable datatypes ----> which we cannot be able to edit / alter"
   ]
  },
  {
   "cell_type": "code",
   "execution_count": null,
   "id": "b07c0107-b700-4254-a6d5-d079f2fa3777",
   "metadata": {},
   "outputs": [],
   "source": []
  },
  {
   "cell_type": "code",
   "execution_count": null,
   "id": "7c5666d2-9e9b-461c-98f0-a553fd27dfe4",
   "metadata": {},
   "outputs": [],
   "source": [
    "introduction to string datatype :"
   ]
  },
  {
   "cell_type": "code",
   "execution_count": null,
   "id": "ca6fdef5-74d9-4198-a1b5-2d3191538794",
   "metadata": {},
   "outputs": [],
   "source": [
    "defination : A string is a series of characters declared in quotes.\n",
    "\n",
    "classification : it is classified as an immutable datatype\n",
    "\n",
    "how to declare the string =====?\n",
    "\n",
    "1. single quote\n",
    "\n",
    "2. double quote"
   ]
  },
  {
   "cell_type": "code",
   "execution_count": 8,
   "id": "2f6e56d1-1531-47a0-8db5-a461c0e96b14",
   "metadata": {},
   "outputs": [
    {
     "name": "stdout",
     "output_type": "stream",
     "text": [
      "muskaan\n"
     ]
    }
   ],
   "source": [
    "name = 'muskaan'   # single quote\n",
    "\n",
    "print(name)"
   ]
  },
  {
   "cell_type": "code",
   "execution_count": 9,
   "id": "42b7e1fa-609b-4f14-b9af-30e0306b78c3",
   "metadata": {},
   "outputs": [
    {
     "name": "stdout",
     "output_type": "stream",
     "text": [
      "dinesh\n"
     ]
    }
   ],
   "source": [
    "name2 = \"dinesh\" # double quote\n",
    "\n",
    "print(name2)"
   ]
  },
  {
   "cell_type": "code",
   "execution_count": null,
   "id": "5c1f3a7e-42bf-40b1-871d-c1c733917823",
   "metadata": {},
   "outputs": [],
   "source": []
  },
  {
   "cell_type": "code",
   "execution_count": null,
   "id": "558e2a3d-03b6-4dd0-9021-087566b78524",
   "metadata": {},
   "outputs": [],
   "source": []
  },
  {
   "cell_type": "code",
   "execution_count": null,
   "id": "ba2895f7-8bd9-4c14-9a82-751c15b6682e",
   "metadata": {},
   "outputs": [],
   "source": []
  }
 ],
 "metadata": {
  "kernelspec": {
   "display_name": "Python 3 (ipykernel)",
   "language": "python",
   "name": "python3"
  },
  "language_info": {
   "codemirror_mode": {
    "name": "ipython",
    "version": 3
   },
   "file_extension": ".py",
   "mimetype": "text/x-python",
   "name": "python",
   "nbconvert_exporter": "python",
   "pygments_lexer": "ipython3",
   "version": "3.13.5"
  }
 },
 "nbformat": 4,
 "nbformat_minor": 5
}
